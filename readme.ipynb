{
 "cells": [
  {
   "cell_type": "markdown",
   "metadata": {},
   "source": [
    "# Readme\n",
    "\n",
    "## 目录\n",
    "\n",
    "### 1、wordCount\n",
    "\n",
    "内容：运行原理，RDD设计，DAG，安装与使用\n",
    "第1章 Spark的设计与运行原理（大概了解）\n",
    "1.1 Spark简介\n",
    "1.2 Spark运行架构\n",
    "1.3 RDD的设计与运行原理\n",
    "1.4 Spark的部署模式\n",
    "第2章 Spark的安装与使用（主要内容）\n",
    "2.1 Spark的安装和使用 （如果想在window上安装，参考https://blog.csdn.net/SummerHmh/article/details/89518567，之后可以用pyspark或者jupyter上进行学习）（地址有问题，可以使用这个https://www-eu.apache.org/dist/spark/spark-2.4.3/）\n",
    "2.2 第一个Spark应用程序：WordCount\n",
    "\n",
    "### 2、RDDStudy\n",
    "\n",
    "内容：RDD编程，熟悉算子，读写文件\n",
    "第3章 Spark编程基础\n",
    "3.1 Spark入门：RDD编程\n",
    "3.2 Spark入门：键值对RDD\n",
    "3.3 Spark入门：共享变量（提升-分布式必备）\n",
    "3.4 数据读写\n",
    "3.4.1 Spark入门：文件数据读写\n",
    "\n",
    "### 3、sparkSQLStudy\n",
    "\n",
    "内容：DataFrame,SparkSQL\n",
    "第4章\n",
    "4.1 Spark SQL简介\n",
    "4.2 DataFrame与RDD的区别\n",
    "4.3 DataFrame的创建\n",
    "4.4 从RDD转换得到DataFrame\n",
    "\n",
    "### 4、Parquet_JDBC_IO_Study\n",
    "\n",
    "### 5、MLlibStudy\n",
    "\n",
    "内容：MLlib流设计，特征工程\n",
    "第6章 Spark MLlib\n",
    "6.1 Spark MLlib简介\n",
    "6.2 机器学习工作流\n",
    "6.2.1 机器学习工作流(ML Pipelines) \n",
    "6.2.2 构建一个机器学习工作流\n",
    "6.3 特征抽取、转化和选择\n",
    "6.3.1 特征抽取：TF-IDF\n",
    "6.3.4 特征变换：标签和索引的转化\n",
    "6.3.5 特征选取：卡方选择器\n",
    "\n",
    "### 资源文件：resources\n"
   ]
  },
  {
   "cell_type": "code",
   "execution_count": null,
   "metadata": {},
   "outputs": [],
   "source": []
  }
 ],
 "metadata": {
  "kernelspec": {
   "display_name": "Python 3",
   "language": "python",
   "name": "python3"
  },
  "language_info": {
   "codemirror_mode": {
    "name": "ipython",
    "version": 3
   },
   "file_extension": ".py",
   "mimetype": "text/x-python",
   "name": "python",
   "nbconvert_exporter": "python",
   "pygments_lexer": "ipython3",
   "version": "3.6.3"
  }
 },
 "nbformat": 4,
 "nbformat_minor": 2
}
