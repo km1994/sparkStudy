{
 "cells": [
  {
   "cell_type": "code",
   "execution_count": 1,
   "metadata": {},
   "outputs": [
    {
     "data": {
      "text/plain": [
       "'\\n    @Author: King\\n    @Date: 2019.05.20\\n    @Purpose: Spark 2.1.0入门：决策树分类器(Python版)\\n    @Introduction:  Spark 2.1.0入门：决策树分类器(Python版)\\n    @Datasets: \\n    @Link : http://dblab.xmu.edu.cn/blog/1776-2/\\n    @Reference : Spark 2.1.0入门：决策树分类器(Python版)\\n'"
      ]
     },
     "execution_count": 1,
     "metadata": {},
     "output_type": "execute_result"
    }
   ],
   "source": [
    "'''\n",
    "    @Author: King\n",
    "    @Date: 2019.05.20\n",
    "    @Purpose: Spark 2.1.0入门：决策树分类器(Python版)\n",
    "    @Introduction:  Spark 2.1.0入门：决策树分类器(Python版)\n",
    "    @Datasets: \n",
    "    @Link : http://dblab.xmu.edu.cn/blog/1776-2/\n",
    "    @Reference : Spark 2.1.0入门：决策树分类器(Python版)\n",
    "'''"
   ]
  },
  {
   "cell_type": "markdown",
   "metadata": {},
   "source": [
    "![作者](../img/bigdata-roadmap.jpg)\n",
    "【版权声明】博客内容由厦门大学数据库实验室拥有版权，未经允许，请勿转载！\n",
    "\n",
    "## 一、决策树分类器\n",
    "\n",
    "### 1、方法简介\n",
    "\n",
    "​ 决策树（decision tree）是一种基本的分类与回归方法，这里主要介绍用于分类的决策树。决策树模式呈树形结构，其中每个内部节点表示一个属性上的测试，每个分支代表一个测试输出，每个叶节点代表一种类别。学习时利用训练数据，根据损失函数最小化的原则建立决策树模型；预测时，对新的数据，利用决策树模型进行分类。"
   ]
  },
  {
   "cell_type": "markdown",
   "metadata": {},
   "source": [
    "### 二、示例代码\n",
    "\n",
    "我们以iris数据集（iris）为例进行分析。iris以鸢尾花的特征作为数据来源，数据集包含150个数据集，分为3类，每类50个数据，每个数据包含4个属性，是在数据挖掘、数据分类中非常常用的测试集、训练集。决策树可以用于分类和回归，接下来我们将在代码中分别进行介绍。"
   ]
  },
  {
   "cell_type": "markdown",
   "metadata": {},
   "source": [
    "#### 1. 导入需要的包"
   ]
  },
  {
   "cell_type": "code",
   "execution_count": 2,
   "metadata": {},
   "outputs": [],
   "source": [
    "# 引入 pyspark 库\n",
    "from pyspark.sql import SparkSession\n",
    "spark = SparkSession.builder.master(\"local\").appName(\"Word Count\").getOrCreate()\n",
    "\n",
    "from pyspark.ml.linalg import Vector,Vectors\n",
    "from pyspark.sql import Row\n",
    "from pyspark.ml import Pipeline\n",
    "from pyspark.ml.feature import IndexToString,StringIndexer,VectorIndexer"
   ]
  },
  {
   "cell_type": "markdown",
   "metadata": {},
   "source": [
    "#### 2. 读取数据，简要分析\n",
    "\n",
    "1. 读取文本文件，\n",
    "1. 第一个map把每行的数据用“,”隔开，比如在我们的数据集中，每行被分成了5部分，前4部分是鸢尾花的4个特征，最后一部分是鸢尾花的分类；\n",
    "1. 我们这里把特征存储在Vector中，\n",
    "1. 创建一个Iris模式的RDD，\n",
    "1. 然后转化成dataframe；\n",
    "1. 然后把刚刚得到的数据注册成一个表iris，\n",
    "1. 注册成这个表之后，我们就可以通过sql语句进行数据查询；\n",
    "1. 选出我们需要的数据后，我们可以把结果打印出来查看一下数据。"
   ]
  },
  {
   "cell_type": "code",
   "execution_count": 4,
   "metadata": {},
   "outputs": [
    {
     "name": "stdout",
     "output_type": "stream",
     "text": [
      "Iris-setosa:[5.1,3.5,1.4,0.2]\n",
      "Iris-setosa:[4.9,3.0,1.4,0.2]\n",
      "Iris-setosa:[4.7,3.2,1.3,0.2]\n",
      "Iris-setosa:[4.6,3.1,1.5,0.2]\n",
      "Iris-setosa:[5.0,3.6,1.4,0.2]\n",
      "Iris-setosa:[5.4,3.9,1.7,0.4]\n",
      "Iris-setosa:[4.6,3.4,1.4,0.3]\n",
      "Iris-setosa:[5.0,3.4,1.5,0.2]\n",
      "Iris-setosa:[4.4,2.9,1.4,0.2]\n",
      "Iris-setosa:[4.9,3.1,1.5,0.1]\n",
      "Iris-setosa:[5.4,3.7,1.5,0.2]\n",
      "Iris-setosa:[4.8,3.4,1.6,0.2]\n",
      "Iris-setosa:[4.8,3.0,1.4,0.1]\n",
      "Iris-setosa:[4.3,3.0,1.1,0.1]\n",
      "Iris-setosa:[5.8,4.0,1.2,0.2]\n",
      "Iris-setosa:[5.7,4.4,1.5,0.4]\n",
      "Iris-setosa:[5.4,3.9,1.3,0.4]\n",
      "Iris-setosa:[5.1,3.5,1.4,0.3]\n",
      "Iris-setosa:[5.7,3.8,1.7,0.3]\n",
      "Iris-setosa:[5.1,3.8,1.5,0.3]\n",
      "Iris-setosa:[5.4,3.4,1.7,0.2]\n",
      "Iris-setosa:[5.1,3.7,1.5,0.4]\n",
      "Iris-setosa:[4.6,3.6,1.0,0.2]\n",
      "Iris-setosa:[5.1,3.3,1.7,0.5]\n",
      "Iris-setosa:[4.8,3.4,1.9,0.2]\n",
      "Iris-setosa:[5.0,3.0,1.6,0.2]\n",
      "Iris-setosa:[5.0,3.4,1.6,0.4]\n",
      "Iris-setosa:[5.2,3.5,1.5,0.2]\n",
      "Iris-setosa:[5.2,3.4,1.4,0.2]\n",
      "Iris-setosa:[4.7,3.2,1.6,0.2]\n",
      "Iris-setosa:[4.8,3.1,1.6,0.2]\n",
      "Iris-setosa:[5.4,3.4,1.5,0.4]\n",
      "Iris-setosa:[5.2,4.1,1.5,0.1]\n",
      "Iris-setosa:[5.5,4.2,1.4,0.2]\n",
      "Iris-setosa:[4.9,3.1,1.5,0.1]\n",
      "Iris-setosa:[5.0,3.2,1.2,0.2]\n",
      "Iris-setosa:[5.5,3.5,1.3,0.2]\n",
      "Iris-setosa:[4.9,3.1,1.5,0.1]\n",
      "Iris-setosa:[4.4,3.0,1.3,0.2]\n",
      "Iris-setosa:[5.1,3.4,1.5,0.2]\n",
      "Iris-setosa:[5.0,3.5,1.3,0.3]\n",
      "Iris-setosa:[4.5,2.3,1.3,0.3]\n",
      "Iris-setosa:[4.4,3.2,1.3,0.2]\n",
      "Iris-setosa:[5.0,3.5,1.6,0.6]\n",
      "Iris-setosa:[5.1,3.8,1.9,0.4]\n",
      "Iris-setosa:[4.8,3.0,1.4,0.3]\n",
      "Iris-setosa:[5.1,3.8,1.6,0.2]\n",
      "Iris-setosa:[4.6,3.2,1.4,0.2]\n",
      "Iris-setosa:[5.3,3.7,1.5,0.2]\n",
      "Iris-setosa:[5.0,3.3,1.4,0.2]\n",
      "Iris-versicolor:[7.0,3.2,4.7,1.4]\n",
      "Iris-versicolor:[6.4,3.2,4.5,1.5]\n",
      "Iris-versicolor:[6.9,3.1,4.9,1.5]\n",
      "Iris-versicolor:[5.5,2.3,4.0,1.3]\n",
      "Iris-versicolor:[6.5,2.8,4.6,1.5]\n",
      "Iris-versicolor:[5.7,2.8,4.5,1.3]\n",
      "Iris-versicolor:[6.3,3.3,4.7,1.6]\n",
      "Iris-versicolor:[4.9,2.4,3.3,1.0]\n",
      "Iris-versicolor:[6.6,2.9,4.6,1.3]\n",
      "Iris-versicolor:[5.2,2.7,3.9,1.4]\n",
      "Iris-versicolor:[5.0,2.0,3.5,1.0]\n",
      "Iris-versicolor:[5.9,3.0,4.2,1.5]\n",
      "Iris-versicolor:[6.0,2.2,4.0,1.0]\n",
      "Iris-versicolor:[6.1,2.9,4.7,1.4]\n",
      "Iris-versicolor:[5.6,2.9,3.6,1.3]\n",
      "Iris-versicolor:[6.7,3.1,4.4,1.4]\n",
      "Iris-versicolor:[5.6,3.0,4.5,1.5]\n",
      "Iris-versicolor:[5.8,2.7,4.1,1.0]\n",
      "Iris-versicolor:[6.2,2.2,4.5,1.5]\n",
      "Iris-versicolor:[5.6,2.5,3.9,1.1]\n",
      "Iris-versicolor:[5.9,3.2,4.8,1.8]\n",
      "Iris-versicolor:[6.1,2.8,4.0,1.3]\n",
      "Iris-versicolor:[6.3,2.5,4.9,1.5]\n",
      "Iris-versicolor:[6.1,2.8,4.7,1.2]\n",
      "Iris-versicolor:[6.4,2.9,4.3,1.3]\n",
      "Iris-versicolor:[6.6,3.0,4.4,1.4]\n",
      "Iris-versicolor:[6.8,2.8,4.8,1.4]\n",
      "Iris-versicolor:[6.7,3.0,5.0,1.7]\n",
      "Iris-versicolor:[6.0,2.9,4.5,1.5]\n",
      "Iris-versicolor:[5.7,2.6,3.5,1.0]\n",
      "Iris-versicolor:[5.5,2.4,3.8,1.1]\n",
      "Iris-versicolor:[5.5,2.4,3.7,1.0]\n",
      "Iris-versicolor:[5.8,2.7,3.9,1.2]\n",
      "Iris-versicolor:[6.0,2.7,5.1,1.6]\n",
      "Iris-versicolor:[5.4,3.0,4.5,1.5]\n",
      "Iris-versicolor:[6.0,3.4,4.5,1.6]\n",
      "Iris-versicolor:[6.7,3.1,4.7,1.5]\n",
      "Iris-versicolor:[6.3,2.3,4.4,1.3]\n",
      "Iris-versicolor:[5.6,3.0,4.1,1.3]\n",
      "Iris-versicolor:[5.5,2.5,4.0,1.3]\n",
      "Iris-versicolor:[5.5,2.6,4.4,1.2]\n",
      "Iris-versicolor:[6.1,3.0,4.6,1.4]\n",
      "Iris-versicolor:[5.8,2.6,4.0,1.2]\n",
      "Iris-versicolor:[5.0,2.3,3.3,1.0]\n",
      "Iris-versicolor:[5.6,2.7,4.2,1.3]\n",
      "Iris-versicolor:[5.7,3.0,4.2,1.2]\n",
      "Iris-versicolor:[5.7,2.9,4.2,1.3]\n",
      "Iris-versicolor:[6.2,2.9,4.3,1.3]\n",
      "Iris-versicolor:[5.1,2.5,3.0,1.1]\n",
      "Iris-versicolor:[5.7,2.8,4.1,1.3]\n",
      "Iris-virginica:[6.3,3.3,6.0,2.5]\n",
      "Iris-virginica:[5.8,2.7,5.1,1.9]\n",
      "Iris-virginica:[7.1,3.0,5.9,2.1]\n",
      "Iris-virginica:[6.3,2.9,5.6,1.8]\n",
      "Iris-virginica:[6.5,3.0,5.8,2.2]\n",
      "Iris-virginica:[7.6,3.0,6.6,2.1]\n",
      "Iris-virginica:[4.9,2.5,4.5,1.7]\n",
      "Iris-virginica:[7.3,2.9,6.3,1.8]\n",
      "Iris-virginica:[6.7,2.5,5.8,1.8]\n",
      "Iris-virginica:[7.2,3.6,6.1,2.5]\n",
      "Iris-virginica:[6.5,3.2,5.1,2.0]\n",
      "Iris-virginica:[6.4,2.7,5.3,1.9]\n",
      "Iris-virginica:[6.8,3.0,5.5,2.1]\n",
      "Iris-virginica:[5.7,2.5,5.0,2.0]\n",
      "Iris-virginica:[5.8,2.8,5.1,2.4]\n",
      "Iris-virginica:[6.4,3.2,5.3,2.3]\n",
      "Iris-virginica:[6.5,3.0,5.5,1.8]\n",
      "Iris-virginica:[7.7,3.8,6.7,2.2]\n",
      "Iris-virginica:[7.7,2.6,6.9,2.3]\n",
      "Iris-virginica:[6.0,2.2,5.0,1.5]\n",
      "Iris-virginica:[6.9,3.2,5.7,2.3]\n",
      "Iris-virginica:[5.6,2.8,4.9,2.0]\n",
      "Iris-virginica:[7.7,2.8,6.7,2.0]\n",
      "Iris-virginica:[6.3,2.7,4.9,1.8]\n",
      "Iris-virginica:[6.7,3.3,5.7,2.1]\n",
      "Iris-virginica:[7.2,3.2,6.0,1.8]\n",
      "Iris-virginica:[6.2,2.8,4.8,1.8]\n",
      "Iris-virginica:[6.1,3.0,4.9,1.8]\n",
      "Iris-virginica:[6.4,2.8,5.6,2.1]\n",
      "Iris-virginica:[7.2,3.0,5.8,1.6]\n",
      "Iris-virginica:[7.4,2.8,6.1,1.9]\n",
      "Iris-virginica:[7.9,3.8,6.4,2.0]\n",
      "Iris-virginica:[6.4,2.8,5.6,2.2]\n",
      "Iris-virginica:[6.3,2.8,5.1,1.5]\n",
      "Iris-virginica:[6.1,2.6,5.6,1.4]\n",
      "Iris-virginica:[7.7,3.0,6.1,2.3]\n",
      "Iris-virginica:[6.3,3.4,5.6,2.4]\n",
      "Iris-virginica:[6.4,3.1,5.5,1.8]\n",
      "Iris-virginica:[6.0,3.0,4.8,1.8]\n",
      "Iris-virginica:[6.9,3.1,5.4,2.1]\n",
      "Iris-virginica:[6.7,3.1,5.6,2.4]\n",
      "Iris-virginica:[6.9,3.1,5.1,2.3]\n",
      "Iris-virginica:[5.8,2.7,5.1,1.9]\n",
      "Iris-virginica:[6.8,3.2,5.9,2.3]\n",
      "Iris-virginica:[6.7,3.3,5.7,2.5]\n",
      "Iris-virginica:[6.7,3.0,5.2,2.3]\n",
      "Iris-virginica:[6.3,2.5,5.0,1.9]\n",
      "Iris-virginica:[6.5,3.0,5.2,2.0]\n",
      "Iris-virginica:[6.2,3.4,5.4,2.3]\n",
      "Iris-virginica:[5.9,3.0,5.1,1.8]\n"
     ]
    }
   ],
   "source": [
    "def f(x):\n",
    "    rel = {}\n",
    "    rel['features'] = Vectors.dense(float(x[0]),float(x[1]),float(x[2]),float(x[3]))\n",
    "    rel['label'] = str(x[4])\n",
    "    return rel\n",
    " \n",
    "data = spark.sparkContext.textFile(\"../resources/iris.txt\").map(lambda line: line.split(',')).map(lambda p: Row(**f(p))).toDF()\n",
    " \n",
    "data.createOrReplaceTempView(\"iris\")\n",
    " \n",
    "df = spark.sql(\"select * from iris\")\n",
    " \n",
    "rel = df.rdd.map(lambda t : str(t[1])+\":\"+str(t[0])).collect()\n",
    "for item in rel:\n",
    "    print(item)"
   ]
  },
  {
   "cell_type": "markdown",
   "metadata": {},
   "source": [
    "#### 3. 进一步处理特征和标签，以及数据分组"
   ]
  },
  {
   "cell_type": "code",
   "execution_count": 5,
   "metadata": {},
   "outputs": [],
   "source": [
    "# 分别获取标签列和特征列，进行索引，并进行了重命名。\n",
    "labelIndexer = StringIndexer().setInputCol(\"label\").setOutputCol(\"indexedLabel\").fit(df)\n",
    " \n",
    "featureIndexer = VectorIndexer().setInputCol(\"features\").setOutputCol(\"indexedFeatures\").setMaxCategories(4).fit(df)\n",
    " \n",
    "# 这里我们设置一个labelConverter，目的是把预测的类别重新转化成字符型的。\n",
    "labelConverter = IndexToString().setInputCol(\"prediction\").setOutputCol(\"predictedLabel\").setLabels(labelIndexer.labels)\n",
    "# 接下来，我们把数据集随机分成训练集和测试集，其中训练集占70%。\n",
    "trainingData, testData = data.randomSplit([0.7, 0.3])"
   ]
  },
  {
   "cell_type": "markdown",
   "metadata": {},
   "source": [
    "#### 4. 构建决策树分类模型"
   ]
  },
  {
   "cell_type": "code",
   "execution_count": 6,
   "metadata": {},
   "outputs": [
    {
     "name": "stdout",
     "output_type": "stream",
     "text": [
      "+---------------+---------------+-----------------+\n",
      "| predictedLabel|          label|         features|\n",
      "+---------------+---------------+-----------------+\n",
      "|    Iris-setosa|    Iris-setosa|[4.4,2.9,1.4,0.2]|\n",
      "|    Iris-setosa|    Iris-setosa|[4.4,3.0,1.3,0.2]|\n",
      "|    Iris-setosa|    Iris-setosa|[4.6,3.1,1.5,0.2]|\n",
      "|    Iris-setosa|    Iris-setosa|[4.6,3.6,1.0,0.2]|\n",
      "|    Iris-setosa|    Iris-setosa|[4.7,3.2,1.3,0.2]|\n",
      "|    Iris-setosa|    Iris-setosa|[4.8,3.0,1.4,0.3]|\n",
      "|    Iris-setosa|    Iris-setosa|[4.8,3.1,1.6,0.2]|\n",
      "|    Iris-setosa|    Iris-setosa|[4.9,3.0,1.4,0.2]|\n",
      "|Iris-versicolor|Iris-versicolor|[5.0,2.0,3.5,1.0]|\n",
      "|Iris-versicolor|Iris-versicolor|[5.1,2.5,3.0,1.1]|\n",
      "|    Iris-setosa|    Iris-setosa|[5.1,3.5,1.4,0.2]|\n",
      "|    Iris-setosa|    Iris-setosa|[5.2,3.4,1.4,0.2]|\n",
      "|    Iris-setosa|    Iris-setosa|[5.2,3.5,1.5,0.2]|\n",
      "|    Iris-setosa|    Iris-setosa|[5.5,4.2,1.4,0.2]|\n",
      "|Iris-versicolor|Iris-versicolor|[5.6,2.5,3.9,1.1]|\n",
      "| Iris-virginica| Iris-virginica|[5.6,2.8,4.9,2.0]|\n",
      "|    Iris-setosa|    Iris-setosa|[5.7,3.8,1.7,0.3]|\n",
      "|Iris-versicolor|Iris-versicolor|[5.8,2.7,4.1,1.0]|\n",
      "| Iris-virginica| Iris-virginica|[5.8,2.7,5.1,1.9]|\n",
      "|    Iris-setosa|    Iris-setosa|[5.8,4.0,1.2,0.2]|\n",
      "+---------------+---------------+-----------------+\n",
      "only showing top 20 rows\n",
      "\n"
     ]
    }
   ],
   "source": [
    "# 导入所需要的包\n",
    "from pyspark.ml.classification import DecisionTreeClassificationModel,DecisionTreeClassifier\n",
    "from pyspark.ml.evaluation import MulticlassClassificationEvaluator\n",
    "# 训练决策树模型,这里我们可以通过setter的方法来设置决策树的参数，也可以用ParamMap来设置（具体的可以查看spark mllib的官网）。具体的可以设置的参数可以通过explainParams()来获取。\n",
    "dtClassifier = DecisionTreeClassifier().setLabelCol(\"indexedLabel\").setFeaturesCol(\"indexedFeatures\")\n",
    "# 在pipeline中进行设置\n",
    "pipelinedClassifier = Pipeline().setStages([labelIndexer, featureIndexer, dtClassifier, labelConverter])\n",
    "# 训练决策树模型\n",
    "modelClassifier = pipelinedClassifier.fit(trainingData)\n",
    "# 进行预测\n",
    "predictionsClassifier = modelClassifier.transform(testData)\n",
    "# 查看部分预测的结果\n",
    "predictionsClassifier.select(\"predictedLabel\", \"label\", \"features\").show(20)"
   ]
  },
  {
   "cell_type": "markdown",
   "metadata": {},
   "source": [
    "#### 5. 评估决策树分类模型"
   ]
  },
  {
   "cell_type": "code",
   "execution_count": 8,
   "metadata": {},
   "outputs": [
    {
     "name": "stdout",
     "output_type": "stream",
     "text": [
      "Test Error = 0.052631578947368474\n",
      "Learned classification tree model:\n",
      "DecisionTreeClassificationModel (uid=DecisionTreeClassifier_ce3dc286ec78) of depth 5 with 11 nodes\n",
      "  If (feature 2 <= 2.5999999999999996)\n",
      "   Predict: 0.0\n",
      "  Else (feature 2 > 2.5999999999999996)\n",
      "   If (feature 3 <= 1.65)\n",
      "    If (feature 2 <= 4.95)\n",
      "     Predict: 1.0\n",
      "    Else (feature 2 > 4.95)\n",
      "     If (feature 0 <= 6.05)\n",
      "      If (feature 1 <= 2.25)\n",
      "       Predict: 2.0\n",
      "      Else (feature 1 > 2.25)\n",
      "       Predict: 1.0\n",
      "     Else (feature 0 > 6.05)\n",
      "      Predict: 2.0\n",
      "   Else (feature 3 > 1.65)\n",
      "    Predict: 2.0\n",
      "\n"
     ]
    }
   ],
   "source": [
    "evaluatorClassifier = MulticlassClassificationEvaluator().setLabelCol(\"indexedLabel\").setPredictionCol(\"prediction\").setMetricName(\"accuracy\")\n",
    " \n",
    "accuracy = evaluatorClassifier.evaluate(predictionsClassifier)\n",
    " \n",
    "print(\"Test Error = \" + str(1.0 - accuracy))\n",
    " \n",
    "treeModelClassifier = modelClassifier.stages[2]\n",
    " \n",
    "print(\"Learned classification tree model:\\n\" + str(treeModelClassifier.toDebugString))"
   ]
  },
  {
   "cell_type": "markdown",
   "metadata": {},
   "source": [
    "​ 从上述结果可以看到模型的预测准确率为 0.94以及训练的决策树模型结构。"
   ]
  },
  {
   "cell_type": "markdown",
   "metadata": {},
   "source": [
    "#### 6. 构建决策树回归模型"
   ]
  },
  {
   "cell_type": "code",
   "execution_count": 9,
   "metadata": {},
   "outputs": [
    {
     "name": "stdout",
     "output_type": "stream",
     "text": [
      "+---------------+---------------+-----------------+\n",
      "| predictedLabel|          label|         features|\n",
      "+---------------+---------------+-----------------+\n",
      "|    Iris-setosa|    Iris-setosa|[4.4,2.9,1.4,0.2]|\n",
      "|    Iris-setosa|    Iris-setosa|[4.4,3.0,1.3,0.2]|\n",
      "|    Iris-setosa|    Iris-setosa|[4.6,3.1,1.5,0.2]|\n",
      "|    Iris-setosa|    Iris-setosa|[4.6,3.6,1.0,0.2]|\n",
      "|    Iris-setosa|    Iris-setosa|[4.7,3.2,1.3,0.2]|\n",
      "|    Iris-setosa|    Iris-setosa|[4.8,3.0,1.4,0.3]|\n",
      "|    Iris-setosa|    Iris-setosa|[4.8,3.1,1.6,0.2]|\n",
      "|    Iris-setosa|    Iris-setosa|[4.9,3.0,1.4,0.2]|\n",
      "|Iris-versicolor|Iris-versicolor|[5.0,2.0,3.5,1.0]|\n",
      "|Iris-versicolor|Iris-versicolor|[5.1,2.5,3.0,1.1]|\n",
      "|    Iris-setosa|    Iris-setosa|[5.1,3.5,1.4,0.2]|\n",
      "|    Iris-setosa|    Iris-setosa|[5.2,3.4,1.4,0.2]|\n",
      "|    Iris-setosa|    Iris-setosa|[5.2,3.5,1.5,0.2]|\n",
      "|    Iris-setosa|    Iris-setosa|[5.5,4.2,1.4,0.2]|\n",
      "|Iris-versicolor|Iris-versicolor|[5.6,2.5,3.9,1.1]|\n",
      "| Iris-virginica| Iris-virginica|[5.6,2.8,4.9,2.0]|\n",
      "|    Iris-setosa|    Iris-setosa|[5.7,3.8,1.7,0.3]|\n",
      "|Iris-versicolor|Iris-versicolor|[5.8,2.7,4.1,1.0]|\n",
      "| Iris-virginica| Iris-virginica|[5.8,2.7,5.1,1.9]|\n",
      "|    Iris-setosa|    Iris-setosa|[5.8,4.0,1.2,0.2]|\n",
      "+---------------+---------------+-----------------+\n",
      "only showing top 20 rows\n",
      "\n"
     ]
    }
   ],
   "source": [
    "# 导入所需要的包\n",
    "from pyspark.ml.regression import DecisionTreeRegressionModel,DecisionTreeRegressor\n",
    "from pyspark.ml.evaluation import RegressionEvaluator\n",
    "# 训练决策树模型\n",
    "dtRegressor = DecisionTreeRegressor().setLabelCol(\"indexedLabel\").setFeaturesCol(\"indexedFeatures\")\n",
    "# 在pipeline中进行设置\n",
    "pipelineRegressor = Pipeline().setStages([labelIndexer, featureIndexer, dtRegressor, labelConverter])\n",
    "# 训练决策树模型\n",
    "modelRegressor = pipelineRegressor.fit(trainingData)\n",
    "# 进行预测\n",
    "predictionsRegressor = modelRegressor.transform(testData)\n",
    "# 查看部分预测结果\n",
    "predictionsRegressor.select(\"predictedLabel\", \"label\", \"features\").show(20)"
   ]
  },
  {
   "cell_type": "markdown",
   "metadata": {},
   "source": [
    "#### 7. 评估决策树回归模型"
   ]
  },
  {
   "cell_type": "code",
   "execution_count": 10,
   "metadata": {},
   "outputs": [
    {
     "name": "stdout",
     "output_type": "stream",
     "text": [
      "Root Mean Squared Error (RMSE) on test data = 0.2294157338705618\n",
      "Learned regression tree model:\n",
      "DecisionTreeRegressionModel (uid=DecisionTreeRegressor_541928b4af91) of depth 5 with 11 nodes\n",
      "  If (feature 2 <= 2.5999999999999996)\n",
      "   Predict: 0.0\n",
      "  Else (feature 2 > 2.5999999999999996)\n",
      "   If (feature 3 <= 1.65)\n",
      "    If (feature 2 <= 4.95)\n",
      "     Predict: 1.0\n",
      "    Else (feature 2 > 4.95)\n",
      "     If (feature 0 <= 6.05)\n",
      "      If (feature 1 <= 2.25)\n",
      "       Predict: 2.0\n",
      "      Else (feature 1 > 2.25)\n",
      "       Predict: 1.0\n",
      "     Else (feature 0 > 6.05)\n",
      "      Predict: 2.0\n",
      "   Else (feature 3 > 1.65)\n",
      "    Predict: 2.0\n",
      "\n"
     ]
    }
   ],
   "source": [
    "evaluatorRegressor = RegressionEvaluator().setLabelCol(\"indexedLabel\").setPredictionCol(\"prediction\").setMetricName(\"rmse\")\n",
    " \n",
    "rmse = evaluatorRegressor.evaluate(predictionsRegressor)\n",
    " \n",
    "print(\"Root Mean Squared Error (RMSE) on test data = \" +str(rmse))\n",
    " \n",
    "treeModelRegressor = modelRegressor.stages[2]\n",
    " \n",
    "print(\"Learned regression tree model:\\n\" + str(treeModelRegressor.toDebugString))"
   ]
  },
  {
   "cell_type": "code",
   "execution_count": null,
   "metadata": {},
   "outputs": [],
   "source": []
  }
 ],
 "metadata": {
  "kernelspec": {
   "display_name": "Python 3",
   "language": "python",
   "name": "python3"
  },
  "language_info": {
   "codemirror_mode": {
    "name": "ipython",
    "version": 3
   },
   "file_extension": ".py",
   "mimetype": "text/x-python",
   "name": "python",
   "nbconvert_exporter": "python",
   "pygments_lexer": "ipython3",
   "version": "3.6.3"
  }
 },
 "nbformat": 4,
 "nbformat_minor": 2
}
